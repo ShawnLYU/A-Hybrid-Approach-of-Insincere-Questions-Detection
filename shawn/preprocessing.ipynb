{
 "cells": [
  {
   "cell_type": "markdown",
   "metadata": {},
   "source": [
    "# First insights into data\n",
    "## Reference: [EDA&ML for beginners by a beginner!](https://www.kaggle.com/alaric81li215/eda-ml-for-beginners-by-a-beginner-bonus-on-qid)"
   ]
  },
  {
   "cell_type": "markdown",
   "metadata": {},
   "source": [
    "## load data"
   ]
  },
  {
   "cell_type": "code",
   "execution_count": 10,
   "metadata": {},
   "outputs": [
    {
     "name": "stdout",
     "output_type": "stream",
     "text": [
      "training dataset size:  (1306122, 3)\n",
      "test dataset size:  (56370, 2)\n"
     ]
    }
   ],
   "source": [
    "import pandas as pd\n",
    "\n",
    "filepath_train = '../data/train.csv'\n",
    "filepath_test = '../data/test.csv'\n",
    "\n",
    "\n",
    "df_train = pd.read_csv(filepath_train)\n",
    "df_test = pd.read_csv(filepath_test)\n",
    "\n",
    "print('training dataset size: ',df_train.shape)\n",
    "print('test dataset size: ',df_test.shape)"
   ]
  },
  {
   "cell_type": "code",
   "execution_count": 16,
   "metadata": {},
   "outputs": [],
   "source": [
    "import string\n",
    "def add_metafeatures(dataframe):\n",
    "    new_dataframe = dataframe.copy()\n",
    "    questions = df_train['question_text']\n",
    "    n_charac = pd.Series([len(t) for t in questions])\n",
    "    n_punctuation = pd.Series([sum([1 for x in text if x in set(string.punctuation)]) for text in questions])\n",
    "    n_upper = pd.Series([sum([1 for c in text if c.isupper()]) for text in questions])\n",
    "    new_dataframe['n_charac'] = n_charac\n",
    "    new_dataframe['n_punctuation'] = n_punctuation\n",
    "    new_dataframe['n_upper'] = n_upper\n",
    "    return new_dataframe"
   ]
  },
  {
   "cell_type": "code",
   "execution_count": 17,
   "metadata": {},
   "outputs": [
    {
     "name": "stdout",
     "output_type": "stream",
     "text": [
      "Number of characters description : \n",
      "\n",
      " count    1.306122e+06\n",
      "mean     7.067884e+01\n",
      "std      3.878428e+01\n",
      "min      1.000000e+00\n",
      "25%      4.500000e+01\n",
      "50%      6.000000e+01\n",
      "75%      8.500000e+01\n",
      "max      1.017000e+03\n",
      "Name: n_charac, dtype: float64 \n",
      "\n",
      " Number of punctuations description : \n",
      "\n",
      " count    1.306122e+06\n",
      "mean     1.746492e+00\n",
      "std      1.672051e+00\n",
      "min      0.000000e+00\n",
      "25%      1.000000e+00\n",
      "50%      1.000000e+00\n",
      "75%      2.000000e+00\n",
      "max      4.110000e+02\n",
      "Name: n_punctuation, dtype: float64 \n",
      "\n",
      " Number of uppercase characters description : \n",
      "\n",
      " count    1.306122e+06\n",
      "mean     2.860756e+00\n",
      "std      2.573325e+00\n",
      "min      0.000000e+00\n",
      "25%      1.000000e+00\n",
      "50%      2.000000e+00\n",
      "75%      4.000000e+00\n",
      "max      1.800000e+02\n",
      "Name: n_upper, dtype: float64\n"
     ]
    }
   ],
   "source": [
    "text = df_train.drop(['qid', 'target'], axis=1)\n",
    "text.head()\n",
    "\n",
    "meta_info = add_metafeatures(text)\n",
    "print('Number of characters description : \\n\\n {} \\n\\n Number of punctuations description : \\n\\n {} \\n\\n Number of uppercase characters description : \\n\\n {}'.format(\n",
    "    meta_info['n_charac'].describe(),\n",
    "    meta_info['n_punctuation'].describe(), \n",
    "    meta_info['n_upper'].describe()))"
   ]
  },
  {
   "cell_type": "markdown",
   "metadata": {},
   "source": [
    "# Questions ID insights \n",
    "## Reference: [insights-on-questions-id](https://www.kaggle.com/alaric81li215/insights-on-questions-id)"
   ]
  },
  {
   "cell_type": "markdown",
   "metadata": {},
   "source": [
    "## change qid from Hex into 10-base"
   ]
  },
  {
   "cell_type": "code",
   "execution_count": 4,
   "metadata": {},
   "outputs": [
    {
     "data": {
      "text/html": [
       "<div>\n",
       "<style scoped>\n",
       "    .dataframe tbody tr th:only-of-type {\n",
       "        vertical-align: middle;\n",
       "    }\n",
       "\n",
       "    .dataframe tbody tr th {\n",
       "        vertical-align: top;\n",
       "    }\n",
       "\n",
       "    .dataframe thead th {\n",
       "        text-align: right;\n",
       "    }\n",
       "</style>\n",
       "<table border=\"1\" class=\"dataframe\">\n",
       "  <thead>\n",
       "    <tr style=\"text-align: right;\">\n",
       "      <th></th>\n",
       "      <th>qid</th>\n",
       "      <th>question_text</th>\n",
       "      <th>target</th>\n",
       "      <th>qid_base_ten</th>\n",
       "    </tr>\n",
       "  </thead>\n",
       "  <tbody>\n",
       "    <tr>\n",
       "      <th>0</th>\n",
       "      <td>00002165364db923c7e6</td>\n",
       "      <td>How did Quebec nationalists see their province...</td>\n",
       "      <td>0</td>\n",
       "      <td>2406389283345909734</td>\n",
       "    </tr>\n",
       "    <tr>\n",
       "      <th>1</th>\n",
       "      <td>000032939017120e6e44</td>\n",
       "      <td>Do you have an adopted dog, how would you enco...</td>\n",
       "      <td>0</td>\n",
       "      <td>3644414952234446404</td>\n",
       "    </tr>\n",
       "    <tr>\n",
       "      <th>2</th>\n",
       "      <td>0000412ca6e4628ce2cf</td>\n",
       "      <td>Why does velocity affect time? Does velocity a...</td>\n",
       "      <td>0</td>\n",
       "      <td>4696312011276739279</td>\n",
       "    </tr>\n",
       "    <tr>\n",
       "      <th>3</th>\n",
       "      <td>000042bf85aa498cd78e</td>\n",
       "      <td>How did Otto von Guericke used the Magdeburg h...</td>\n",
       "      <td>0</td>\n",
       "      <td>4809709893479880590</td>\n",
       "    </tr>\n",
       "    <tr>\n",
       "      <th>4</th>\n",
       "      <td>0000455dfa3e01eae3af</td>\n",
       "      <td>Can I convert montra helicon D to a mountain b...</td>\n",
       "      <td>0</td>\n",
       "      <td>4998426305678205871</td>\n",
       "    </tr>\n",
       "  </tbody>\n",
       "</table>\n",
       "</div>"
      ],
      "text/plain": [
       "                    qid                                      question_text  \\\n",
       "0  00002165364db923c7e6  How did Quebec nationalists see their province...   \n",
       "1  000032939017120e6e44  Do you have an adopted dog, how would you enco...   \n",
       "2  0000412ca6e4628ce2cf  Why does velocity affect time? Does velocity a...   \n",
       "3  000042bf85aa498cd78e  How did Otto von Guericke used the Magdeburg h...   \n",
       "4  0000455dfa3e01eae3af  Can I convert montra helicon D to a mountain b...   \n",
       "\n",
       "   target         qid_base_ten  \n",
       "0       0  2406389283345909734  \n",
       "1       0  3644414952234446404  \n",
       "2       0  4696312011276739279  \n",
       "3       0  4809709893479880590  \n",
       "4       0  4998426305678205871  "
      ]
     },
     "execution_count": 4,
     "metadata": {},
     "output_type": "execute_result"
    }
   ],
   "source": [
    "df_train_qid = df_train.copy()\n",
    "\n",
    "df_train_qid['qid_base_ten'] = df_train_qid['qid'].apply(lambda x : int(x, 16))\n",
    "df_train_qid.head()"
   ]
  },
  {
   "cell_type": "code",
   "execution_count": 9,
   "metadata": {},
   "outputs": [
    {
     "data": {
      "image/png": "[encoded data removed]",
      "text/plain": [
       "<Figure size 1296x576 with 1 Axes>"
      ]
     },
     "metadata": {
      "needs_background": "light"
     },
     "output_type": "display_data"
    }
   ],
   "source": [
    "import matplotlib.pyplot as plt\n",
    "\n",
    "min_qid = df_train_qid['qid_base_ten'].min()\n",
    "max_qid = df_train_qid['qid_base_ten'].max()\n",
    "df_train_qid['qid_base_ten_normalized'] = df_train_qid['qid_base_ten'].apply(lambda x : (x - min_qid)/min_qid)\n",
    "plt.figure(figsize=(18, 8));\n",
    "plt.scatter(x=df_train_qid.index[:100], y=df_train_qid['qid_base_ten_normalized'][:100]);\n",
    "plt.xlabel('Question index in df_train_qid');\n",
    "plt.ylabel('qid_base_ten_normalized');\n",
    "plt.show()"
   ]
  },
  {
   "cell_type": "markdown",
   "metadata": {},
   "source": [
    "Questions are indeed sorted by ascending question id in our train dataset."
   ]
  },
  {
   "cell_type": "markdown",
   "metadata": {},
   "source": [
    "# LaTex\n",
    "## Reference: [LaTeX cannot be used in a Quora question?!]https://www.kaggle.com/sunnymarkliu/latex-cannot-be-used-in-a-quora-question)"
   ]
  },
  {
   "cell_type": "code",
   "execution_count": null,
   "metadata": {},
   "outputs": [],
   "source": [
    "import pandas as pd\n",
    "\n",
    "filepath_train = '../data/train.csv'\n",
    "filepath_test = '../data/test.csv'\n",
    "\n",
    "\n",
    "train = pd.read_csv(filepath_train)\n",
    "test = pd.read_csv(filepath_test)"
   ]
  }
 ],
 "metadata": {
  "kernelspec": {
   "display_name": "Python 3",
   "language": "python",
   "name": "python3"
  },
  "language_info": {
   "codemirror_mode": {
    "name": "ipython",
    "version": 3
   },
   "file_extension": ".py",
   "mimetype": "text/x-python",
   "name": "python",
   "nbconvert_exporter": "python",
   "pygments_lexer": "ipython3",
   "version": "3.7.1"
  }
 },
 "nbformat": 4,
 "nbformat_minor": 2
}
