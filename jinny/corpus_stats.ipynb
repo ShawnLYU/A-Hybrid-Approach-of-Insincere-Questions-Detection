{
 "cells": [
  {
   "cell_type": "markdown",
   "metadata": {},
   "source": [
    "### Import Modules"
   ]
  },
  {
   "cell_type": "code",
   "execution_count": 1,
   "metadata": {},
   "outputs": [],
   "source": [
    "import pandas as pd\n",
    "import numpy as np\n",
    "import spacy\n",
    "import string\n",
    "from scipy import stats\n",
    "from matplotlib import pyplot as plt\n",
    "from progress.bar import Bar"
   ]
  },
  {
   "cell_type": "markdown",
   "metadata": {},
   "source": [
    "### Data Preparation"
   ]
  },
  {
   "cell_type": "code",
   "execution_count": 2,
   "metadata": {},
   "outputs": [],
   "source": [
    "# filepath = '../data/mytrain.csv'\n",
    "filepath = 'toy_set.csv' # a small set of 2000 questions for testing\n",
    "df_data = pd.read_csv(filepath)\n",
    "\n",
    "nlp = spacy.load('en_core_web_sm')\n",
    "\n",
    "PUNCT_DICT = {'all_punctuation': string.punctuation, 'commas': ',', \\\n",
    "'periods': '.', 'quotation_marks': '\\'\\\"', 'question_marks': '?', \\\n",
    "'exclamation_marks': '!', 'other_punctuations': [s for s in string.punctuation if s not in ',.\\'\\\"?!']}\n",
    "\n",
    "POS_LIST = ['ADJ', 'ADV', 'INTJ', 'NOUN', 'PROPN', 'VERB', 'ADP', 'AUX', \\\n",
    "'CCONJ', 'DET', 'NUM', 'PART', 'PRON', 'SCONJ', 'SYM', 'X']\n",
    "# Reference: https://universaldependencies.org/u/pos/\n",
    "\n",
    "ENT_LIST = ['PERSON', 'NORP', 'FAC', 'ORG', 'GPE', 'LOC', 'PRODUCT', 'EVENT', \\\n",
    "'WORK_OF_ART', 'LAW', 'LANGUAGE', 'DATE', 'TIME', 'PERCENT', 'MONEY', 'QUANTITY',\n",
    "'ORDINAL', 'CARDINAL']\n",
    "#reference: https://spacy.io/api/annotation#section-named-entities"
   ]
  },
  {
   "cell_type": "markdown",
   "metadata": {},
   "source": [
    "### Build dictionaries for statistical information for one sentence\n",
    "\n",
    "- Currently this covers 3 aspects: punctuation, pos, and entities\n",
    "- The statistical information are all counts of occurrances \n",
    "    - **Might need more statistics?**\n",
    "- The lists of pos and entity types are cited below\n",
    "- Note that spacy provides a PUNCT tag in the pos-tagger, but here we define finer-grained categorization"
   ]
  },
  {
   "cell_type": "code",
   "execution_count": 3,
   "metadata": {},
   "outputs": [],
   "source": [
    "def build_count_dict(sentence):\n",
    "\t\"\"\" Return count dictionaries for sentence mapping from labels to the count of words\n",
    "\tthat satisfies a corresponding condition: \n",
    "\t1 - char in char_type (punctuation)\n",
    "\t2 - taken.pos_ == pos (part of speech)\n",
    "\t3 - ent.label_ == ent (named entites)\n",
    "\t\"\"\"\n",
    "\tpunc = {key: 0 for key in PUNCT_DICT.keys()}\n",
    "\tpos = {pos: 0 for pos in POS_LIST}\n",
    "\tent = {ent: 0 for ent in ENT_LIST}\n",
    "\n",
    "\tdoc = nlp(sentence)\n",
    "\tents = doc.ents\n",
    "\n",
    "\tfor word in sentence:\n",
    "\t\tfor key, value in PUNCT_DICT.items():\n",
    "\t\t\tif word in value:\n",
    "\t\t\t\tpunc[key] += 1\n",
    "\n",
    "\tfor token in doc:\n",
    "\t\tif token.pos_ in POS_LIST:\n",
    "\t\t\tpos[token.pos_] += 1\n",
    "\n",
    "\tfor e in ents:\n",
    "\t\tif e.label_ in ENT_LIST:\n",
    "\t\t\tent[e.label_] += 1\n",
    "\n",
    "\treturn punc, pos, ent"
   ]
  },
  {
   "cell_type": "markdown",
   "metadata": {},
   "source": [
    "### Collect statistical data for all sentences"
   ]
  },
  {
   "cell_type": "code",
   "execution_count": 4,
   "metadata": {},
   "outputs": [],
   "source": [
    "def data_collection(dataframe):\n",
    "\t\"\"\" Return statistical data of sentences with label, which is 0 for negative\n",
    "\tand 1 for positive. \n",
    "\t\"\"\"\n",
    "\tsentences = dataframe['question_text'].values\n",
    "\t# punctuations\n",
    "\tpunc = dict((key, []) for key in PUNCT_DICT.keys())\n",
    "\t# punc_count = dict((key, 0) for key in PUNCT_DICT.keys())\n",
    "\tpos = dict((pos, []) for pos in POS_LIST)\n",
    "\t# pos_count = dict((pos, 0) for pos in POS_LIST)\n",
    "\tent = dict((ent, []) for ent in ENT_LIST)\n",
    "\n",
    "\tdata_container = [punc, pos, ent]\n",
    "\n",
    "\tbar = Bar(\"Collecting data over sentences\", max=len(sentences))\n",
    "\tfor s in sentences:\n",
    "\t\t# punctuations\n",
    "\t\tpunc_dict, pos_dict, ent_dict = build_count_dict(s)\n",
    "\n",
    "\t\tdata = [punc_dict, pos_dict, ent_dict]\n",
    "\n",
    "\t\tfor i in range(len(data)):\n",
    "\t\t\tfor key, value in data[i].items():\n",
    "\t\t\t\tdata_container[i][key].append(value)\n",
    "\n",
    "\t\tbar.next()\n",
    "\tbar.finish()\n",
    "    \n",
    "\tfor container in data_container:\n",
    "\t\tfor key, value in container.items():\n",
    "\t\t\tdataframe[key] = pd.Series(value, index=dataframe.index) "
   ]
  },
  {
   "cell_type": "markdown",
   "metadata": {},
   "source": [
    "### Two Sample KS Testing\n",
    "\n",
    "The purpose is to extract features of which the distributions in positive and negative datasets are significantly different. \n",
    "\n",
    "P-value threshold: 0.01 (standard for two-tailed test)"
   ]
  },
  {
   "cell_type": "code",
   "execution_count": 6,
   "metadata": {},
   "outputs": [],
   "source": [
    "def ks_test(set1, set2, theme):\n",
    "\t\"\"\" Conduct KS test to compare set1 and set2. Print the results and return\n",
    "\tTrue iff set1 and set2 are significantly different at 0.001 level.  \n",
    "\n",
    "\tTheme is a text label for the comparison. \n",
    "\t\"\"\"\n",
    "\n",
    "\tks_test_score, ks_p_value = stats.ks_2samp(set1, set2)\n",
    "\n",
    "\tprint(\"===== KS test for {} =====\".format(theme))\n",
    "\n",
    "\tprint(\"KS statistic: {}\\np-value: {}\".format(ks_test_score, ks_p_value))\n",
    "\n",
    "\t# Since it is a two-tailed test, the difference is considered significant\n",
    "\t# when p value is smaller thatn 0.01\n",
    "\tif ks_p_value < 0.01:\n",
    "\t\tprint(\"The two distributions are significantly different. \")\n",
    "\t\treturn True\n",
    "\n",
    "\treturn False"
   ]
  },
  {
   "cell_type": "markdown",
   "metadata": {},
   "source": [
    "### Executing the methods: main()"
   ]
  },
  {
   "cell_type": "markdown",
   "metadata": {},
   "source": [
    "Getting raw data from data_collection function"
   ]
  },
  {
   "cell_type": "code",
   "execution_count": null,
   "metadata": {},
   "outputs": [],
   "source": [
    "\tdata_collection(df_data)\n",
    "\tdf_positive, df_negative = df_data[df_data['target']==1], df_data[df_data['target'] == 0]"
   ]
  },
  {
   "cell_type": "markdown",
   "metadata": {},
   "source": [
    "Containers for punctuation marks/PoS/entities counts"
   ]
  },
  {
   "cell_type": "code",
   "execution_count": null,
   "metadata": {},
   "outputs": [],
   "source": [
    "features = {'punctuation':[PUNCT_DICT.keys(), []], 'pos_tag':[POS_LIST, []], 'ent':[ENT_LIST, []]}"
   ]
  },
  {
   "cell_type": "markdown",
   "metadata": {},
   "source": [
    "Getting statistical info"
   ]
  },
  {
   "cell_type": "code",
   "execution_count": null,
   "metadata": {},
   "outputs": [],
   "source": [
    "for key, value in features.items():\n",
    "\t\tfor label in value[0]:\n",
    "\t\t\tif ks_test(df_positive[label].values, df_negative[label].values, label):\n",
    "\t\t\t\tvalue[1].append(label)\n",
    "\t\tdf = df_data[value[1]]\n",
    "\t\tdf['target'] = df_data['target']\n",
    "# \t\tfilename = '{}.csv'.format(key)\n",
    "# \t\tdf.to_csv(filename, index=0)"
   ]
  },
  {
   "cell_type": "markdown",
   "metadata": {},
   "source": [
    "print test results"
   ]
  },
  {
   "cell_type": "code",
   "execution_count": null,
   "metadata": {},
   "outputs": [],
   "source": [
    "for key, value in features.items():\n",
    "\t\tprint('{} test results: {}'.format(key, value[1]))"
   ]
  },
  {
   "cell_type": "code",
   "execution_count": null,
   "metadata": {},
   "outputs": [],
   "source": [
    "===== KS test for all_punctuation =====\n",
    "KS statistic: 0.20649401214523827\n",
    "p-value: 0.0\n",
    "The two distributions are significantly different. \n",
    "===== KS test for commas =====\n",
    "KS statistic: 0.14935060881751216\n",
    "p-value: 0.0\n",
    "The two distributions are significantly different. \n",
    "===== KS test for periods =====\n",
    "KS statistic: 0.060830283120621775\n",
    "p-value: 1.1036355412102202e-195\n",
    "The two distributions are significantly different. \n",
    "===== KS test for quotation_marks =====\n",
    "KS statistic: 0.0896970770949378\n",
    "p-value: 0.0\n",
    "The two distributions are significantly different. \n",
    "===== KS test for question_marks =====\n",
    "KS statistic: 0.0675250841708418\n",
    "p-value: 4.996541012816196e-241\n",
    "The two distributions are significantly different. \n",
    "===== KS test for exclamation_marks =====\n",
    "KS statistic: 0.005223242826926211\n",
    "p-value: 0.07267448091854482\n",
    "===== KS test for other_punctuations =====\n",
    "KS statistic: 0.044723076204157164\n",
    "p-value: 5.71709290637383e-106\n",
    "The two distributions are significantly different. \n",
    "corpus_stats.py:134: SettingWithCopyWarning: \n",
    "A value is trying to be set on a copy of a slice from a DataFrame.\n",
    "Try using .loc[row_indexer,col_indexer] = value instead\n",
    "\n",
    "See the caveats in the documentation: http://pandas.pydata.org/pandas-docs/stable/indexing.html#indexing-view-versus-copy\n",
    "  df['target'] = df_data['target']\n",
    "===== KS test for ADJ =====\n",
    "KS statistic: 0.1935908580556876\n",
    "p-value: 0.0\n",
    "The two distributions are significantly different. \n",
    "===== KS test for ADV =====\n",
    "KS statistic: 0.2741942028242801\n",
    "p-value: 0.0\n",
    "The two distributions are significantly different. \n",
    "===== KS test for INTJ =====\n",
    "KS statistic: 0.005810648571668464\n",
    "p-value: 0.03306683461969816\n",
    "===== KS test for NOUN =====\n",
    "KS statistic: 0.07901515248192403\n",
    "p-value: 0.0\n",
    "The two distributions are significantly different. \n",
    "===== KS test for PROPN =====\n",
    "KS statistic: 0.19957844130372066\n",
    "p-value: 0.0\n",
    "The two distributions are significantly different. \n",
    "===== KS test for VERB =====\n",
    "KS statistic: 0.23490756135964508\n",
    "p-value: 0.0\n",
    "The two distributions are significantly different. \n",
    "===== KS test for ADP =====\n",
    "KS statistic: 0.1425457752970124\n",
    "p-value: 0.0\n",
    "The two distributions are significantly different. \n",
    "===== KS test for AUX =====\n",
    "KS statistic: 0.0\n",
    "p-value: 1.0\n",
    "===== KS test for CCONJ =====\n",
    "KS statistic: 0.14024186182060316\n",
    "p-value: 0.0\n",
    "The two distributions are significantly different. \n",
    "===== KS test for DET =====\n",
    "KS statistic: 0.0981772568175312\n",
    "p-value: 0.0\n",
    "The two distributions are significantly different. \n",
    "===== KS test for NUM =====\n",
    "KS statistic: 0.028908604027122253\n",
    "p-value: 1.5941384267652604e-44\n",
    "The two distributions are significantly different. \n",
    "===== KS test for PART =====\n",
    "KS statistic: 0.09337191361933339\n",
    "p-value: 0.0\n",
    "The two distributions are significantly different. \n",
    "===== KS test for PRON =====\n",
    "KS statistic: 0.06995257073260086\n",
    "p-value: 1.2265959395833205e-258\n",
    "The two distributions are significantly different. \n",
    "===== KS test for SCONJ =====\n",
    "KS statistic: 0.0\n",
    "p-value: 1.0\n",
    "===== KS test for SYM =====\n",
    "KS statistic: 0.004367102937732015\n",
    "p-value: 0.19690057964334792\n",
    "===== KS test for X =====\n",
    "KS statistic: 0.0034428522295403274\n",
    "p-value: 0.4674693650568761\n",
    "===== KS test for PERSON =====\n",
    "KS statistic: 0.09407880548837111\n",
    "p-value: 0.0\n",
    "The two distributions are significantly different. \n",
    "===== KS test for NORP =====\n",
    "KS statistic: 0.3093578779584073\n",
    "p-value: 0.0\n",
    "The two distributions are significantly different. \n",
    "===== KS test for FAC =====\n",
    "KS statistic: 0.0001372413203811762\n",
    "p-value: 0.9999999999999998\n",
    "===== KS test for ORG =====\n",
    "KS statistic: 0.013272179404682394\n",
    "p-value: 1.0137461597272936e-09\n",
    "The two distributions are significantly different. \n",
    "===== KS test for GPE =====\n",
    "KS statistic: 0.08024333595431177\n",
    "p-value: 0.0\n",
    "The two distributions are significantly different. \n",
    "===== KS test for LOC =====\n",
    "KS statistic: 0.01593505246154603\n",
    "p-value: 7.978103928117553e-14\n",
    "The two distributions are significantly different. \n",
    "===== KS test for PRODUCT =====\n",
    "KS statistic: 0.003329168579452646\n",
    "p-value: 0.5110730082239134\n",
    "===== KS test for EVENT =====\n",
    "KS statistic: 0.002687291471993425\n",
    "p-value: 0.7726293163529684\n",
    "===== KS test for WORK_OF_ART =====\n",
    "KS statistic: 0.0018686404864821649\n",
    "p-value: 0.9837798597348894\n",
    "===== KS test for LAW =====\n",
    "KS statistic: 0.002270596561190663\n",
    "p-value: 0.9127969713412695\n",
    "===== KS test for LANGUAGE =====\n",
    "KS statistic: 0.0013589432188911843\n",
    "p-value: 0.9998745643907627\n",
    "===== KS test for DATE =====\n",
    "KS statistic: 0.016170799755453547\n",
    "p-value: 3.180582105070732e-14\n",
    "The two distributions are significantly different. \n",
    "===== KS test for TIME =====\n",
    "KS statistic: 0.001761013430913283\n",
    "p-value: 0.9917271436649813\n",
    "===== KS test for PERCENT =====\n",
    "KS statistic: 0.002277878972795744\n",
    "p-value: 0.9108623253635588\n",
    "===== KS test for MONEY =====\n",
    "KS statistic: 0.001213247931561634\n",
    "p-value: 0.9999914531426718\n",
    "===== KS test for QUANTITY =====\n",
    "KS statistic: 0.0010873408185718691\n",
    "p-value: 0.9999996752966367\n",
    "===== KS test for ORDINAL =====\n",
    "KS statistic: 0.003573301528227546\n",
    "p-value: 0.4198663662283268\n",
    "===== KS test for CARDINAL =====\n",
    "KS statistic: 0.011329958638504944\n",
    "p-value: 3.367636618202617e-07\n",
    "The two distributions are significantly different. \n",
    "punctuation test results: ['all_punctuation', 'commas', 'periods', 'quotation_marks', 'question_marks', 'other_punctuations']\n",
    "pos_tag test results: ['ADJ', 'ADV', 'NOUN', 'PROPN', 'VERB', 'ADP', 'CCONJ', 'DET', 'NUM', 'PART', 'PRON']\n",
    "ent test results: ['PERSON', 'NORP', 'ORG', 'GPE', 'LOC', 'DATE', 'CARDINAL']"
   ]
  }
 ],
 "metadata": {
  "kernelspec": {
   "display_name": "Python 3",
   "language": "python",
   "name": "python3"
  },
  "language_info": {
   "codemirror_mode": {
    "name": "ipython",
    "version": 3
   },
   "file_extension": ".py",
   "mimetype": "text/x-python",
   "name": "python",
   "nbconvert_exporter": "python",
   "pygments_lexer": "ipython3",
   "version": "3.7.2"
  }
 },
 "nbformat": 4,
 "nbformat_minor": 2
}
