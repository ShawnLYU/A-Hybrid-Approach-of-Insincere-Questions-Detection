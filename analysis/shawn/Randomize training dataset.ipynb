{
 "cells": [
  {
   "cell_type": "code",
   "execution_count": null,
   "metadata": {},
   "outputs": [],
   "source": [
    "import pandas as pd\n",
    "\n",
    "N = 200000\n",
    "\n",
    "filepath_train = 'filtered_train_data_all.csv'\n",
    "df_train = pd.read_csv(filepath_train,index_col=0)\n",
    "import random\n",
    "random.seed(1)\n",
    "selected = random.sample(list(df_train.index.values), N)\n",
    "df_train.loc[selected].to_csv('filtered_train_data_%d.csv' % N)"
   ]
  }
 ],
 "metadata": {
  "kernelspec": {
   "display_name": "Python 3",
   "language": "python",
   "name": "python3"
  },
  "language_info": {
   "codemirror_mode": {
    "name": "ipython",
    "version": 3
   },
   "file_extension": ".py",
   "mimetype": "text/x-python",
   "name": "python",
   "nbconvert_exporter": "python",
   "pygments_lexer": "ipython3",
   "version": "3.7.2"
  }
 },
 "nbformat": 4,
 "nbformat_minor": 2
}
